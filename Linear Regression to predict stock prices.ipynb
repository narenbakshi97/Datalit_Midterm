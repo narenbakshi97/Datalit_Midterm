{
 "cells": [
  {
   "cell_type": "markdown",
   "metadata": {},
   "source": [
    "# Datalit Midterm Assignment ~ Linear Regression for Price Prediction\n",
    "~ Naren Bakshi"
   ]
  },
  {
   "cell_type": "markdown",
   "metadata": {},
   "source": [
    "## Task: Predict Amazon's stock using LR"
   ]
  },
  {
   "cell_type": "markdown",
   "metadata": {},
   "source": [
    "### Let's get started!"
   ]
  },
  {
   "cell_type": "markdown",
   "metadata": {},
   "source": [
    "## 1. Data preprocessing "
   ]
  },
  {
   "cell_type": "code",
   "execution_count": 254,
   "metadata": {},
   "outputs": [],
   "source": [
    "# import section\n",
    "import numpy as np\n",
    "import pandas as pd\n",
    "import matplotlib.pyplot as plt\n",
    "\n",
    "import quandl\n",
    "import datetime\n",
    "\n",
    "from sklearn.linear_model import LinearRegression\n",
    "from sklearn import preprocessing, model_selection, svm"
   ]
  },
  {
   "cell_type": "code",
   "execution_count": 255,
   "metadata": {},
   "outputs": [],
   "source": [
    "# importing the Amazon stock data file with the API\n",
    "# the params\n",
    "#Dates\n",
    "start_date = datetime.date(2015,1,1)\n",
    "end_date = datetime.date.today()\n",
    "\n",
    "df = quandl.get(\"WIKI/AMZN\", start_date=start_date, end_date=end_date, collapse=\"daily\")"
   ]
  },
  {
   "cell_type": "code",
   "execution_count": 256,
   "metadata": {},
   "outputs": [
    {
     "data": {
      "text/html": [
       "<div>\n",
       "<style scoped>\n",
       "    .dataframe tbody tr th:only-of-type {\n",
       "        vertical-align: middle;\n",
       "    }\n",
       "\n",
       "    .dataframe tbody tr th {\n",
       "        vertical-align: top;\n",
       "    }\n",
       "\n",
       "    .dataframe thead th {\n",
       "        text-align: right;\n",
       "    }\n",
       "</style>\n",
       "<table border=\"1\" class=\"dataframe\">\n",
       "  <thead>\n",
       "    <tr style=\"text-align: right;\">\n",
       "      <th></th>\n",
       "      <th>Open</th>\n",
       "      <th>High</th>\n",
       "      <th>Low</th>\n",
       "      <th>Close</th>\n",
       "      <th>Volume</th>\n",
       "      <th>Ex-Dividend</th>\n",
       "      <th>Split Ratio</th>\n",
       "      <th>Adj. Open</th>\n",
       "      <th>Adj. High</th>\n",
       "      <th>Adj. Low</th>\n",
       "      <th>Adj. Close</th>\n",
       "      <th>Adj. Volume</th>\n",
       "    </tr>\n",
       "    <tr>\n",
       "      <th>Date</th>\n",
       "      <th></th>\n",
       "      <th></th>\n",
       "      <th></th>\n",
       "      <th></th>\n",
       "      <th></th>\n",
       "      <th></th>\n",
       "      <th></th>\n",
       "      <th></th>\n",
       "      <th></th>\n",
       "      <th></th>\n",
       "      <th></th>\n",
       "      <th></th>\n",
       "    </tr>\n",
       "  </thead>\n",
       "  <tbody>\n",
       "    <tr>\n",
       "      <th>2015-01-02</th>\n",
       "      <td>312.58</td>\n",
       "      <td>314.75</td>\n",
       "      <td>306.9601</td>\n",
       "      <td>308.52</td>\n",
       "      <td>2788101.0</td>\n",
       "      <td>0.0</td>\n",
       "      <td>1.0</td>\n",
       "      <td>312.58</td>\n",
       "      <td>314.75</td>\n",
       "      <td>306.9601</td>\n",
       "      <td>308.52</td>\n",
       "      <td>2788101.0</td>\n",
       "    </tr>\n",
       "    <tr>\n",
       "      <th>2015-01-05</th>\n",
       "      <td>307.01</td>\n",
       "      <td>308.38</td>\n",
       "      <td>300.8500</td>\n",
       "      <td>302.19</td>\n",
       "      <td>2774231.0</td>\n",
       "      <td>0.0</td>\n",
       "      <td>1.0</td>\n",
       "      <td>307.01</td>\n",
       "      <td>308.38</td>\n",
       "      <td>300.8500</td>\n",
       "      <td>302.19</td>\n",
       "      <td>2774231.0</td>\n",
       "    </tr>\n",
       "    <tr>\n",
       "      <th>2015-01-06</th>\n",
       "      <td>302.24</td>\n",
       "      <td>303.00</td>\n",
       "      <td>292.3800</td>\n",
       "      <td>295.29</td>\n",
       "      <td>3519034.0</td>\n",
       "      <td>0.0</td>\n",
       "      <td>1.0</td>\n",
       "      <td>302.24</td>\n",
       "      <td>303.00</td>\n",
       "      <td>292.3800</td>\n",
       "      <td>295.29</td>\n",
       "      <td>3519034.0</td>\n",
       "    </tr>\n",
       "    <tr>\n",
       "      <th>2015-01-07</th>\n",
       "      <td>297.50</td>\n",
       "      <td>301.28</td>\n",
       "      <td>295.3300</td>\n",
       "      <td>298.42</td>\n",
       "      <td>2640349.0</td>\n",
       "      <td>0.0</td>\n",
       "      <td>1.0</td>\n",
       "      <td>297.50</td>\n",
       "      <td>301.28</td>\n",
       "      <td>295.3300</td>\n",
       "      <td>298.42</td>\n",
       "      <td>2640349.0</td>\n",
       "    </tr>\n",
       "    <tr>\n",
       "      <th>2015-01-08</th>\n",
       "      <td>300.32</td>\n",
       "      <td>303.14</td>\n",
       "      <td>296.1100</td>\n",
       "      <td>300.46</td>\n",
       "      <td>3088398.0</td>\n",
       "      <td>0.0</td>\n",
       "      <td>1.0</td>\n",
       "      <td>300.32</td>\n",
       "      <td>303.14</td>\n",
       "      <td>296.1100</td>\n",
       "      <td>300.46</td>\n",
       "      <td>3088398.0</td>\n",
       "    </tr>\n",
       "  </tbody>\n",
       "</table>\n",
       "</div>"
      ],
      "text/plain": [
       "              Open    High       Low   Close     Volume  Ex-Dividend  \\\n",
       "Date                                                                   \n",
       "2015-01-02  312.58  314.75  306.9601  308.52  2788101.0          0.0   \n",
       "2015-01-05  307.01  308.38  300.8500  302.19  2774231.0          0.0   \n",
       "2015-01-06  302.24  303.00  292.3800  295.29  3519034.0          0.0   \n",
       "2015-01-07  297.50  301.28  295.3300  298.42  2640349.0          0.0   \n",
       "2015-01-08  300.32  303.14  296.1100  300.46  3088398.0          0.0   \n",
       "\n",
       "            Split Ratio  Adj. Open  Adj. High  Adj. Low  Adj. Close  \\\n",
       "Date                                                                  \n",
       "2015-01-02          1.0     312.58     314.75  306.9601      308.52   \n",
       "2015-01-05          1.0     307.01     308.38  300.8500      302.19   \n",
       "2015-01-06          1.0     302.24     303.00  292.3800      295.29   \n",
       "2015-01-07          1.0     297.50     301.28  295.3300      298.42   \n",
       "2015-01-08          1.0     300.32     303.14  296.1100      300.46   \n",
       "\n",
       "            Adj. Volume  \n",
       "Date                     \n",
       "2015-01-02    2788101.0  \n",
       "2015-01-05    2774231.0  \n",
       "2015-01-06    3519034.0  \n",
       "2015-01-07    2640349.0  \n",
       "2015-01-08    3088398.0  "
      ]
     },
     "execution_count": 256,
     "metadata": {},
     "output_type": "execute_result"
    }
   ],
   "source": [
    "# the structure\n",
    "df.head()"
   ]
  },
  {
   "cell_type": "code",
   "execution_count": 257,
   "metadata": {},
   "outputs": [
    {
     "data": {
      "text/plain": [
       "(812, 12)"
      ]
     },
     "execution_count": 257,
     "metadata": {},
     "output_type": "execute_result"
    }
   ],
   "source": [
    "# let's figure out what are the dimensions\n",
    "df.shape"
   ]
  },
  {
   "cell_type": "code",
   "execution_count": 258,
   "metadata": {},
   "outputs": [],
   "source": [
    "# so it contains 812 rows and 12 columns"
   ]
  },
  {
   "cell_type": "code",
   "execution_count": 259,
   "metadata": {},
   "outputs": [],
   "source": [
    "# getting out the essential data \n",
    "df = df.reset_index()\n",
    "close_price = df['Close'].tolist()\n",
    "date = df.index.tolist()"
   ]
  },
  {
   "cell_type": "code",
   "execution_count": 260,
   "metadata": {},
   "outputs": [],
   "source": [
    "# Convert to compatible vector\n",
    "date = np.reshape(date, (len(date), 1))\n",
    "close_price = np.reshape(close_price, (len(close_price), 1))"
   ]
  },
  {
   "cell_type": "markdown",
   "metadata": {},
   "source": [
    "## 2. Splitting the dataframe intoTraining ans testing data "
   ]
  },
  {
   "cell_type": "code",
   "execution_count": 261,
   "metadata": {},
   "outputs": [],
   "source": [
    "# Applying the basic steps in the ML model"
   ]
  },
  {
   "cell_type": "markdown",
   "metadata": {},
   "source": [
    "* Model instentiation\n",
    "* Fitting\n",
    "* Prediction"
   ]
  },
  {
   "cell_type": "code",
   "execution_count": 262,
   "metadata": {},
   "outputs": [],
   "source": [
    "# defining the train and test vars\n",
    "xtrain, xtest, ytrain, ytest = train_test_split(date, close_price, test_size=0.33, random_state=42)"
   ]
  },
  {
   "cell_type": "code",
   "execution_count": 263,
   "metadata": {},
   "outputs": [],
   "source": [
    "# model\n",
    "lreg = LinearRegression()"
   ]
  },
  {
   "cell_type": "code",
   "execution_count": 264,
   "metadata": {},
   "outputs": [
    {
     "data": {
      "text/plain": [
       "LinearRegression(copy_X=True, fit_intercept=True, n_jobs=None,\n",
       "         normalize=False)"
      ]
     },
     "execution_count": 264,
     "metadata": {},
     "output_type": "execute_result"
    }
   ],
   "source": [
    "# fitting\n",
    "lreg.fit(xtrain, ytrain)"
   ]
  },
  {
   "cell_type": "code",
   "execution_count": 265,
   "metadata": {
    "scrolled": true
   },
   "outputs": [
    {
     "data": {
      "text/plain": [
       "array([[ 579.49246368],\n",
       "       [ 960.48251539],\n",
       "       [ 556.26136297],\n",
       "       [ 629.43933022],\n",
       "       [ 917.50497907],\n",
       "       [1219.50928835],\n",
       "       [ 522.57626694],\n",
       "       [ 986.03672618],\n",
       "       [ 663.12442625],\n",
       "       [ 953.51318518],\n",
       "       [ 369.25100222],\n",
       "       [ 560.90758311],\n",
       "       [ 803.67258557],\n",
       "       [1231.12483871],\n",
       "       [ 593.43112411],\n",
       "       [ 787.41081507],\n",
       "       [ 657.31665108],\n",
       "       [ 419.19786876],\n",
       "       [ 737.46394854],\n",
       "       [ 909.37409382],\n",
       "       [ 454.04451983],\n",
       "       [ 370.41255726],\n",
       "       [ 701.45574243],\n",
       "       [ 706.10196258],\n",
       "       [ 337.88901626],\n",
       "       [ 327.43502094],\n",
       "       [1140.52354593],\n",
       "       [ 534.19181729],\n",
       "       [ 535.35337233],\n",
       "       [ 383.18966265],\n",
       "       [1056.89158336],\n",
       "       [1039.46825782],\n",
       "       [1073.15335386],\n",
       "       [1134.71577075],\n",
       "       [1111.48467003],\n",
       "       [ 319.30413569],\n",
       "       [ 700.2941874 ],\n",
       "       [ 752.564164  ],\n",
       "       [ 365.76633712],\n",
       "       [ 515.60693672],\n",
       "       [ 368.08944719],\n",
       "       [ 889.62765822],\n",
       "       [ 634.08555036],\n",
       "       [ 451.72140976],\n",
       "       [1029.0142625 ],\n",
       "       [ 537.6764824 ],\n",
       "       [ 908.21253879],\n",
       "       [1102.19222975],\n",
       "       [ 922.15119922],\n",
       "       [ 954.67474022],\n",
       "       [ 682.87086186],\n",
       "       [1032.49892761],\n",
       "       [1109.16155996],\n",
       "       [1133.55421571],\n",
       "       [ 643.37799065],\n",
       "       [ 763.01815932],\n",
       "       [ 930.28208447],\n",
       "       [ 392.48210294],\n",
       "       [ 858.26567225],\n",
       "       [ 966.29029057],\n",
       "       [ 672.41686654],\n",
       "       [ 996.4907215 ],\n",
       "       [ 431.97497415],\n",
       "       [ 494.69894608],\n",
       "       [1155.62376139],\n",
       "       [ 487.72961586],\n",
       "       [ 623.63155504],\n",
       "       [ 349.50456662],\n",
       "       [ 404.09765329],\n",
       "       [ 472.6294004 ],\n",
       "       [1070.83024379],\n",
       "       [ 866.3965575 ],\n",
       "       [ 983.71361611],\n",
       "       [1229.96328368],\n",
       "       [ 330.91968604],\n",
       "       [ 328.59657597],\n",
       "       [ 988.35983625],\n",
       "       [ 612.01600468],\n",
       "       [ 674.73997661],\n",
       "       [ 735.14083847],\n",
       "       [ 536.51492736],\n",
       "       [ 794.38014529],\n",
       "       [ 832.71146147],\n",
       "       [ 376.22033244],\n",
       "       [ 382.02810762],\n",
       "       [ 865.23500247],\n",
       "       [ 895.43543339],\n",
       "       [ 699.13263236],\n",
       "       [ 990.68294632],\n",
       "       [1047.59914307],\n",
       "       [ 618.9853349 ],\n",
       "       [ 904.72787368],\n",
       "       [1117.29244521],\n",
       "       [1030.17581754],\n",
       "       [ 711.90973775],\n",
       "       [ 855.94256218],\n",
       "       [ 973.25962079],\n",
       "       [ 818.77280104],\n",
       "       [1226.47861857],\n",
       "       [ 538.83803743],\n",
       "       [1197.43974268],\n",
       "       [ 355.31234179],\n",
       "       [1177.69330707],\n",
       "       [ 751.40260897],\n",
       "       [ 594.59267915],\n",
       "       [ 874.52744275],\n",
       "       [ 405.25920833],\n",
       "       [1161.43153657],\n",
       "       [ 380.86655258],\n",
       "       [ 529.54559715],\n",
       "       [ 999.97538661],\n",
       "       [1193.95507757],\n",
       "       [ 539.99959247],\n",
       "       [1066.18402364],\n",
       "       [ 790.89548018],\n",
       "       [ 822.25746615],\n",
       "       [ 390.15899287],\n",
       "       [ 304.20392022],\n",
       "       [1142.846656  ],\n",
       "       [ 420.35942379],\n",
       "       [ 624.79311008],\n",
       "       [1067.34557868],\n",
       "       [1183.50108225],\n",
       "       [1209.05529303],\n",
       "       [ 808.31880572],\n",
       "       [ 975.58273086],\n",
       "       [ 429.65186408],\n",
       "       [ 692.16330215],\n",
       "       [ 542.32270254],\n",
       "       [ 326.2734659 ],\n",
       "       [1212.53995814],\n",
       "       [ 783.92614997],\n",
       "       [ 576.00779858],\n",
       "       [ 641.05488058],\n",
       "       [ 386.67432776],\n",
       "       [1228.80172864],\n",
       "       [ 648.02421079],\n",
       "       [ 970.93651072],\n",
       "       [1099.86911968],\n",
       "       [ 918.66653411],\n",
       "       [1049.92225314],\n",
       "       [1207.893738  ],\n",
       "       [1175.370197  ],\n",
       "       [ 523.73782197],\n",
       "       [1173.04708693],\n",
       "       [ 903.56631864],\n",
       "       [ 300.71925512],\n",
       "       [1121.93866536],\n",
       "       [ 409.90542847],\n",
       "       [ 673.57842158],\n",
       "       [ 565.55380326],\n",
       "       [ 653.83198597],\n",
       "       [ 677.06308668],\n",
       "       [ 294.91147994],\n",
       "       [1009.26782689],\n",
       "       [ 776.95681975],\n",
       "       [1059.21469343],\n",
       "       [1146.33132111],\n",
       "       [1076.63801896],\n",
       "       [ 802.51103054],\n",
       "       [1170.72397686],\n",
       "       [ 893.11232332],\n",
       "       [1216.02462325],\n",
       "       [ 570.2000234 ],\n",
       "       [ 809.48036075],\n",
       "       [ 679.38619675],\n",
       "       [ 631.76244029],\n",
       "       [1022.04493229],\n",
       "       [ 384.35121769],\n",
       "       [ 464.49851515],\n",
       "       [ 941.89763482],\n",
       "       [ 898.9200985 ],\n",
       "       [1045.276033  ],\n",
       "       [ 829.22679636],\n",
       "       [ 786.24926004],\n",
       "       [ 630.60088526],\n",
       "       [ 447.07518961],\n",
       "       [ 835.03457154],\n",
       "       [ 545.80736765],\n",
       "       [ 967.45184561],\n",
       "       [ 356.47389683],\n",
       "       [ 793.21859025],\n",
       "       [1004.62160675],\n",
       "       [1152.13909628],\n",
       "       [1196.27818764],\n",
       "       [1103.35378478],\n",
       "       [1141.68510096],\n",
       "       [ 639.89332554],\n",
       "       [ 736.3023935 ],\n",
       "       [ 362.28167201],\n",
       "       [ 968.61340064],\n",
       "       [ 733.97928343],\n",
       "       [ 520.25315686],\n",
       "       [ 805.99569565],\n",
       "       [ 810.64191579],\n",
       "       [ 916.34342404],\n",
       "       [ 910.53564886],\n",
       "       [ 587.62334893],\n",
       "       [ 600.40045433],\n",
       "       [ 651.5088759 ],\n",
       "       [ 397.12832308],\n",
       "       [ 680.54775179],\n",
       "       [ 502.82983133],\n",
       "       [ 771.14904457],\n",
       "       [ 720.040623  ],\n",
       "       [ 754.88727408],\n",
       "       [ 476.11406551],\n",
       "       [ 372.73566733],\n",
       "       [1233.44794878],\n",
       "       [ 444.75207954],\n",
       "       [ 343.69679144],\n",
       "       [ 373.89722237],\n",
       "       [1023.20648732],\n",
       "       [ 847.81167693],\n",
       "       [ 659.63976115],\n",
       "       [1154.46220636],\n",
       "       [ 449.39829969],\n",
       "       [ 387.83588279],\n",
       "       [ 484.24495076],\n",
       "       [ 483.08339572],\n",
       "       [ 325.11191087],\n",
       "       [ 769.98748954],\n",
       "       [ 516.76849176],\n",
       "       [ 671.2553115 ],\n",
       "       [ 902.40476361],\n",
       "       [ 848.97323197],\n",
       "       [ 450.55985472],\n",
       "       [ 780.44148486],\n",
       "       [ 815.28813593],\n",
       "       [ 455.20607486],\n",
       "       [ 846.6501219 ],\n",
       "       [ 299.55770008],\n",
       "       [ 907.05098375],\n",
       "       [ 749.0794989 ],\n",
       "       [ 582.97712879],\n",
       "       [ 377.38188747],\n",
       "       [1167.23931175],\n",
       "       [ 853.61945211],\n",
       "       [ 730.49461833],\n",
       "       [ 461.01385004],\n",
       "       [ 636.40866043],\n",
       "       [ 564.39224822],\n",
       "       [ 548.13047772],\n",
       "       [1162.59309161],\n",
       "       [ 799.02636543],\n",
       "       [ 445.91363458],\n",
       "       [ 880.33521793],\n",
       "       [ 601.56200936],\n",
       "       [1015.07560207],\n",
       "       [1176.53175203],\n",
       "       [ 842.00390175],\n",
       "       [ 340.21212633],\n",
       "       [ 872.20433268],\n",
       "       [ 418.03631372],\n",
       "       [1118.45400025],\n",
       "       [ 357.63545187],\n",
       "       [1071.99179882],\n",
       "       [ 812.96502586],\n",
       "       [ 961.64407043],\n",
       "       [ 320.46569072],\n",
       "       [ 694.48641222],\n",
       "       [ 704.94040754],\n",
       "       [ 710.74818272],\n",
       "       [ 351.82767669],\n",
       "       [ 681.70930683],\n",
       "       [1157.94687146],\n",
       "       [ 599.23889929],\n",
       "       [ 713.07129279]])"
      ]
     },
     "execution_count": 265,
     "metadata": {},
     "output_type": "execute_result"
    }
   ],
   "source": [
    "# predicting\n",
    "predict = lreg.predict(xtest)\n",
    "predict"
   ]
  },
  {
   "cell_type": "markdown",
   "metadata": {},
   "source": [
    "### Plotting the results"
   ]
  },
  {
   "cell_type": "code",
   "execution_count": 266,
   "metadata": {},
   "outputs": [],
   "source": [
    "# plotting the actual and predicting vals\n",
    "# the actual price"
   ]
  },
  {
   "cell_type": "code",
   "execution_count": 267,
   "metadata": {},
   "outputs": [
    {
     "data": {
      "image/png": "[encoded data removed]",
      "text/plain": [
       "<Figure size 432x288 with 1 Axes>"
      ]
     },
     "metadata": {
      "needs_background": "light"
     },
     "output_type": "display_data"
    }
   ],
   "source": [
    "# for training data\n",
    "plt.scatter(xtrain, ytrain, color=\"green\", label = 'Actual Price')\n",
    "plt.plot(xtrain, lreg.predict(xtrain), color=\"red\", linewidth=2, label = 'Predicted Price')\n",
    "plt.title('Amazon Stock price Linear Regression')\n",
    "plt.legend()\n",
    "plt.xlabel('Date Integer')\n",
    "plt.show()"
   ]
  },
  {
   "cell_type": "code",
   "execution_count": 268,
   "metadata": {},
   "outputs": [
    {
     "data": {
      "image/png": "[encoded data removed]",
      "text/plain": [
       "<Figure size 432x288 with 1 Axes>"
      ]
     },
     "metadata": {
      "needs_background": "light"
     },
     "output_type": "display_data"
    }
   ],
   "source": [
    "# for testing data\n",
    "plt.scatter(xtest, ytest, color = \"yellow\", label = 'Actual Price')\n",
    "plt.plot(xtest, lreg.predict(xtest), color=\"red\", linewidth=2, label = 'Predicted Price')\n",
    "plt.title('Amazon Stock price Linear Regression')\n",
    "plt.legend()\n",
    "plt.xlabel('Date Integer')\n",
    "plt.show()"
   ]
  }
 ],
 "metadata": {
  "kernelspec": {
   "display_name": "Python 3",
   "language": "python",
   "name": "python3"
  },
  "language_info": {
   "codemirror_mode": {
    "name": "ipython",
    "version": 3
   },
   "file_extension": ".py",
   "mimetype": "text/x-python",
   "name": "python",
   "nbconvert_exporter": "python",
   "pygments_lexer": "ipython3",
   "version": "3.7.1"
  }
 },
 "nbformat": 4,
 "nbformat_minor": 2
}
